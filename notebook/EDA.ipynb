{
 "cells": [
  {
   "cell_type": "code",
   "execution_count": 1,
   "metadata": {},
   "outputs": [],
   "source": [
    "import pandas as pd\n",
    "import numpy as np"
   ]
  },
  {
   "cell_type": "code",
   "execution_count": 4,
   "metadata": {},
   "outputs": [],
   "source": [
    "X_df = pd.read_excel('data\\CM_X.xlsx',sheet_name=None)\n",
    "Y_df = pd.read_excel('data\\CM_Y.xlsx',sheet_name=None)\n",
    "\n",
    "X_df = pd.concat(X_df.values(), ignore_index=True)\n",
    "Y_df = pd.concat(Y_df.values(), ignore_index=True)"
   ]
  },
  {
   "cell_type": "code",
   "execution_count": 5,
   "metadata": {},
   "outputs": [
    {
     "data": {
      "text/html": [
       "<div>\n",
       "<style scoped>\n",
       "    .dataframe tbody tr th:only-of-type {\n",
       "        vertical-align: middle;\n",
       "    }\n",
       "\n",
       "    .dataframe tbody tr th {\n",
       "        vertical-align: top;\n",
       "    }\n",
       "\n",
       "    .dataframe thead th {\n",
       "        text-align: right;\n",
       "    }\n",
       "</style>\n",
       "<table border=\"1\" class=\"dataframe\">\n",
       "  <thead>\n",
       "    <tr style=\"text-align: right;\">\n",
       "      <th></th>\n",
       "      <th>Ambient</th>\n",
       "      <th>Ref Temp on Bed</th>\n",
       "      <th>Spindle Rear</th>\n",
       "      <th>Coolantwall</th>\n",
       "      <th>Transfomerbed</th>\n",
       "      <th>Spindle Front</th>\n",
       "    </tr>\n",
       "  </thead>\n",
       "  <tbody>\n",
       "    <tr>\n",
       "      <th>0</th>\n",
       "      <td>19.00</td>\n",
       "      <td>19.48</td>\n",
       "      <td>21.76</td>\n",
       "      <td>20.88</td>\n",
       "      <td>20.93</td>\n",
       "      <td>21.79</td>\n",
       "    </tr>\n",
       "    <tr>\n",
       "      <th>1</th>\n",
       "      <td>19.00</td>\n",
       "      <td>19.56</td>\n",
       "      <td>21.95</td>\n",
       "      <td>21.32</td>\n",
       "      <td>21.06</td>\n",
       "      <td>21.95</td>\n",
       "    </tr>\n",
       "    <tr>\n",
       "      <th>2</th>\n",
       "      <td>19.17</td>\n",
       "      <td>19.59</td>\n",
       "      <td>22.18</td>\n",
       "      <td>21.63</td>\n",
       "      <td>21.09</td>\n",
       "      <td>22.26</td>\n",
       "    </tr>\n",
       "    <tr>\n",
       "      <th>3</th>\n",
       "      <td>19.18</td>\n",
       "      <td>19.62</td>\n",
       "      <td>22.44</td>\n",
       "      <td>21.85</td>\n",
       "      <td>21.17</td>\n",
       "      <td>22.54</td>\n",
       "    </tr>\n",
       "    <tr>\n",
       "      <th>4</th>\n",
       "      <td>19.29</td>\n",
       "      <td>19.65</td>\n",
       "      <td>22.67</td>\n",
       "      <td>22.00</td>\n",
       "      <td>21.23</td>\n",
       "      <td>22.80</td>\n",
       "    </tr>\n",
       "    <tr>\n",
       "      <th>5</th>\n",
       "      <td>19.40</td>\n",
       "      <td>19.70</td>\n",
       "      <td>22.95</td>\n",
       "      <td>22.13</td>\n",
       "      <td>21.29</td>\n",
       "      <td>23.04</td>\n",
       "    </tr>\n",
       "    <tr>\n",
       "      <th>6</th>\n",
       "      <td>19.54</td>\n",
       "      <td>19.73</td>\n",
       "      <td>23.19</td>\n",
       "      <td>22.25</td>\n",
       "      <td>21.35</td>\n",
       "      <td>23.29</td>\n",
       "    </tr>\n",
       "    <tr>\n",
       "      <th>7</th>\n",
       "      <td>19.70</td>\n",
       "      <td>19.77</td>\n",
       "      <td>23.40</td>\n",
       "      <td>22.36</td>\n",
       "      <td>21.40</td>\n",
       "      <td>23.47</td>\n",
       "    </tr>\n",
       "    <tr>\n",
       "      <th>8</th>\n",
       "      <td>19.85</td>\n",
       "      <td>19.78</td>\n",
       "      <td>23.62</td>\n",
       "      <td>22.44</td>\n",
       "      <td>21.42</td>\n",
       "      <td>23.68</td>\n",
       "    </tr>\n",
       "    <tr>\n",
       "      <th>9</th>\n",
       "      <td>19.93</td>\n",
       "      <td>19.81</td>\n",
       "      <td>23.86</td>\n",
       "      <td>22.52</td>\n",
       "      <td>21.48</td>\n",
       "      <td>23.86</td>\n",
       "    </tr>\n",
       "  </tbody>\n",
       "</table>\n",
       "</div>"
      ],
      "text/plain": [
       "   Ambient  Ref Temp on Bed  Spindle Rear  Coolantwall  Transfomerbed  \\\n",
       "0    19.00            19.48         21.76        20.88          20.93   \n",
       "1    19.00            19.56         21.95        21.32          21.06   \n",
       "2    19.17            19.59         22.18        21.63          21.09   \n",
       "3    19.18            19.62         22.44        21.85          21.17   \n",
       "4    19.29            19.65         22.67        22.00          21.23   \n",
       "5    19.40            19.70         22.95        22.13          21.29   \n",
       "6    19.54            19.73         23.19        22.25          21.35   \n",
       "7    19.70            19.77         23.40        22.36          21.40   \n",
       "8    19.85            19.78         23.62        22.44          21.42   \n",
       "9    19.93            19.81         23.86        22.52          21.48   \n",
       "\n",
       "   Spindle Front  \n",
       "0          21.79  \n",
       "1          21.95  \n",
       "2          22.26  \n",
       "3          22.54  \n",
       "4          22.80  \n",
       "5          23.04  \n",
       "6          23.29  \n",
       "7          23.47  \n",
       "8          23.68  \n",
       "9          23.86  "
      ]
     },
     "execution_count": 5,
     "metadata": {},
     "output_type": "execute_result"
    }
   ],
   "source": [
    "X_df.head(10)"
   ]
  },
  {
   "cell_type": "code",
   "execution_count": 6,
   "metadata": {},
   "outputs": [],
   "source": [
    "temp_features = list(X_df.columns)\n",
    "disp_features = list(Y_df.columns)"
   ]
  },
  {
   "cell_type": "code",
   "execution_count": 9,
   "metadata": {},
   "outputs": [
    {
     "name": "stdout",
     "output_type": "stream",
     "text": [
      "['Ambient', 'Ref Temp on Bed', 'Spindle Rear', 'Coolantwall', 'Transfomerbed', 'Spindle Front']\n"
     ]
    }
   ],
   "source": [
    "print(temp_features)"
   ]
  },
  {
   "cell_type": "code",
   "execution_count": 10,
   "metadata": {},
   "outputs": [
    {
     "name": "stdout",
     "output_type": "stream",
     "text": [
      "['Dia Disp']\n"
     ]
    }
   ],
   "source": [
    "print(disp_features)"
   ]
  },
  {
   "cell_type": "code",
   "execution_count": null,
   "metadata": {},
   "outputs": [],
   "source": []
  }
 ],
 "metadata": {
  "kernelspec": {
   "display_name": "Python 3",
   "language": "python",
   "name": "python3"
  },
  "language_info": {
   "codemirror_mode": {
    "name": "ipython",
    "version": 3
   },
   "file_extension": ".py",
   "mimetype": "text/x-python",
   "name": "python",
   "nbconvert_exporter": "python",
   "pygments_lexer": "ipython3",
   "version": "3.11.0"
  }
 },
 "nbformat": 4,
 "nbformat_minor": 2
}
